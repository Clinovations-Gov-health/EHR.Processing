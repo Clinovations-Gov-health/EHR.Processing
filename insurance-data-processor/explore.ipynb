{
 "metadata": {
  "language_info": {
   "codemirror_mode": {
    "name": "ipython",
    "version": 3
   },
   "file_extension": ".py",
   "mimetype": "text/x-python",
   "name": "python",
   "nbconvert_exporter": "python",
   "pygments_lexer": "ipython3",
   "version": "3.8.4-final"
  },
  "orig_nbformat": 2,
  "kernelspec": {
   "name": "python38464bitb16486ad39e34496a82880f8d9fa5ae7",
   "display_name": "Python 3.8.4 64-bit"
  }
 },
 "nbformat": 4,
 "nbformat_minor": 2,
 "cells": [
  {
   "cell_type": "code",
   "execution_count": 2,
   "metadata": {},
   "outputs": [
    {
     "output_type": "execute_result",
     "data": {
      "text/plain": "   BusinessYear StateCode  IssuerId SourceName           ImportDate  \\\n0          2020        AK     21989       HIOS  2019-08-09 03:20:19   \n1          2020        AK     21989       HIOS  2019-08-09 03:20:19   \n2          2020        AK     21989       HIOS  2019-08-09 03:20:19   \n3          2020        AK     21989       HIOS  2019-08-09 03:20:19   \n4          2020        AK     21989       HIOS  2019-08-09 03:20:19   \n\n  MarketCoverage DentalOnlyPlan         TIN StandardComponentId  \\\n0     Individual            Yes  93-0438772      21989AK0030001   \n1     Individual            Yes  93-0438772      21989AK0030001   \n2     Individual            Yes  93-0438772      21989AK0050001   \n3     Individual            Yes  93-0438772      21989AK0050001   \n4     Individual            Yes  93-0438772      21989AK0050002   \n\n            PlanMarketingName  ... TEHBDedOutOfNetFamilyPerPerson  \\\n0   Delta Dental Premier Plan  ...                            NaN   \n1   Delta Dental Premier Plan  ...                            NaN   \n2  Delta Dental PPO 1000 Plan  ...                            NaN   \n3  Delta Dental PPO 1000 Plan  ...                            NaN   \n4  Delta Dental PPO 1500 Plan  ...                            NaN   \n\n   TEHBDedOutOfNetFamilyPerGroup TEHBDedCombInnOonIndividual  \\\n0                            NaN                         NaN   \n1                            NaN                         NaN   \n2                            NaN                         NaN   \n3                            NaN                         NaN   \n4                            NaN                         NaN   \n\n  TEHBDedCombInnOonFamilyPerPerson TEHBDedCombInnOonFamilyPerGroup  \\\n0                              NaN                             NaN   \n1                              NaN                             NaN   \n2                              NaN                             NaN   \n3                              NaN                             NaN   \n4                              NaN                             NaN   \n\n  IsHSAEligible HSAOrHRAEmployerContribution  \\\n0           NaN                          NaN   \n1           NaN                          NaN   \n2           NaN                          NaN   \n3           NaN                          NaN   \n4           NaN                          NaN   \n\n  HSAOrHRAEmployerContributionAmount URLForSummaryofBenefitsCoverage  \\\n0                                NaN                             NaN   \n1                                NaN                             NaN   \n2                                NaN                             NaN   \n3                                NaN                             NaN   \n4                                NaN                             NaN   \n\n                                        PlanBrochure  \n0  https://www.modahealth.com/pdfs/plans/individu...  \n1  https://www.modahealth.com/pdfs/plans/individu...  \n2  https://www.modahealth.com/pdfs/plans/individu...  \n3  https://www.modahealth.com/pdfs/plans/individu...  \n4  https://www.modahealth.com/pdfs/plans/individu...  \n\n[5 rows x 152 columns]",
      "text/html": "<div>\n<style scoped>\n    .dataframe tbody tr th:only-of-type {\n        vertical-align: middle;\n    }\n\n    .dataframe tbody tr th {\n        vertical-align: top;\n    }\n\n    .dataframe thead th {\n        text-align: right;\n    }\n</style>\n<table border=\"1\" class=\"dataframe\">\n  <thead>\n    <tr style=\"text-align: right;\">\n      <th></th>\n      <th>BusinessYear</th>\n      <th>StateCode</th>\n      <th>IssuerId</th>\n      <th>SourceName</th>\n      <th>ImportDate</th>\n      <th>MarketCoverage</th>\n      <th>DentalOnlyPlan</th>\n      <th>TIN</th>\n      <th>StandardComponentId</th>\n      <th>PlanMarketingName</th>\n      <th>...</th>\n      <th>TEHBDedOutOfNetFamilyPerPerson</th>\n      <th>TEHBDedOutOfNetFamilyPerGroup</th>\n      <th>TEHBDedCombInnOonIndividual</th>\n      <th>TEHBDedCombInnOonFamilyPerPerson</th>\n      <th>TEHBDedCombInnOonFamilyPerGroup</th>\n      <th>IsHSAEligible</th>\n      <th>HSAOrHRAEmployerContribution</th>\n      <th>HSAOrHRAEmployerContributionAmount</th>\n      <th>URLForSummaryofBenefitsCoverage</th>\n      <th>PlanBrochure</th>\n    </tr>\n  </thead>\n  <tbody>\n    <tr>\n      <th>0</th>\n      <td>2020</td>\n      <td>AK</td>\n      <td>21989</td>\n      <td>HIOS</td>\n      <td>2019-08-09 03:20:19</td>\n      <td>Individual</td>\n      <td>Yes</td>\n      <td>93-0438772</td>\n      <td>21989AK0030001</td>\n      <td>Delta Dental Premier Plan</td>\n      <td>...</td>\n      <td>NaN</td>\n      <td>NaN</td>\n      <td>NaN</td>\n      <td>NaN</td>\n      <td>NaN</td>\n      <td>NaN</td>\n      <td>NaN</td>\n      <td>NaN</td>\n      <td>NaN</td>\n      <td>https://www.modahealth.com/pdfs/plans/individu...</td>\n    </tr>\n    <tr>\n      <th>1</th>\n      <td>2020</td>\n      <td>AK</td>\n      <td>21989</td>\n      <td>HIOS</td>\n      <td>2019-08-09 03:20:19</td>\n      <td>Individual</td>\n      <td>Yes</td>\n      <td>93-0438772</td>\n      <td>21989AK0030001</td>\n      <td>Delta Dental Premier Plan</td>\n      <td>...</td>\n      <td>NaN</td>\n      <td>NaN</td>\n      <td>NaN</td>\n      <td>NaN</td>\n      <td>NaN</td>\n      <td>NaN</td>\n      <td>NaN</td>\n      <td>NaN</td>\n      <td>NaN</td>\n      <td>https://www.modahealth.com/pdfs/plans/individu...</td>\n    </tr>\n    <tr>\n      <th>2</th>\n      <td>2020</td>\n      <td>AK</td>\n      <td>21989</td>\n      <td>HIOS</td>\n      <td>2019-08-09 03:20:19</td>\n      <td>Individual</td>\n      <td>Yes</td>\n      <td>93-0438772</td>\n      <td>21989AK0050001</td>\n      <td>Delta Dental PPO 1000 Plan</td>\n      <td>...</td>\n      <td>NaN</td>\n      <td>NaN</td>\n      <td>NaN</td>\n      <td>NaN</td>\n      <td>NaN</td>\n      <td>NaN</td>\n      <td>NaN</td>\n      <td>NaN</td>\n      <td>NaN</td>\n      <td>https://www.modahealth.com/pdfs/plans/individu...</td>\n    </tr>\n    <tr>\n      <th>3</th>\n      <td>2020</td>\n      <td>AK</td>\n      <td>21989</td>\n      <td>HIOS</td>\n      <td>2019-08-09 03:20:19</td>\n      <td>Individual</td>\n      <td>Yes</td>\n      <td>93-0438772</td>\n      <td>21989AK0050001</td>\n      <td>Delta Dental PPO 1000 Plan</td>\n      <td>...</td>\n      <td>NaN</td>\n      <td>NaN</td>\n      <td>NaN</td>\n      <td>NaN</td>\n      <td>NaN</td>\n      <td>NaN</td>\n      <td>NaN</td>\n      <td>NaN</td>\n      <td>NaN</td>\n      <td>https://www.modahealth.com/pdfs/plans/individu...</td>\n    </tr>\n    <tr>\n      <th>4</th>\n      <td>2020</td>\n      <td>AK</td>\n      <td>21989</td>\n      <td>HIOS</td>\n      <td>2019-08-09 03:20:19</td>\n      <td>Individual</td>\n      <td>Yes</td>\n      <td>93-0438772</td>\n      <td>21989AK0050002</td>\n      <td>Delta Dental PPO 1500 Plan</td>\n      <td>...</td>\n      <td>NaN</td>\n      <td>NaN</td>\n      <td>NaN</td>\n      <td>NaN</td>\n      <td>NaN</td>\n      <td>NaN</td>\n      <td>NaN</td>\n      <td>NaN</td>\n      <td>NaN</td>\n      <td>https://www.modahealth.com/pdfs/plans/individu...</td>\n    </tr>\n  </tbody>\n</table>\n<p>5 rows × 152 columns</p>\n</div>"
     },
     "metadata": {},
     "execution_count": 2
    }
   ],
   "source": [
    "import pandas as pd\n",
    "\n",
    "df = pd.read_csv(\"data/better/Plan_Attributes_PUF.csv\")\n",
    "df.head()"
   ]
  },
  {
   "cell_type": "code",
   "execution_count": 17,
   "metadata": {
    "tags": []
   },
   "outputs": [
    {
     "output_type": "stream",
     "name": "stdout",
     "text": "['Standard Low Off Exchange Plan' 'Standard Low On Exchange Plan'\n 'Standard High Off Exchange Plan' 'Standard High On Exchange Plan'\n 'Standard Silver On Exchange Plan' 'Zero Cost Sharing Plan Variation'\n 'Limited Cost Sharing Plan Variation' '73% AV Level Silver Plan'\n '87% AV Level Silver Plan' '94% AV Level Silver Plan'\n 'Standard Bronze Off Exchange Plan' 'Standard Bronze On Exchange Plan'\n 'Standard Gold On Exchange Plan' 'Standard Gold Off Exchange Plan'\n 'Standard Silver Off Exchange Plan'\n 'Standard Catastrophic On Exchange Plan'\n 'Standard Catastrophic Off Exchange Plan'\n 'Standard Platinum Off Exchange Plan'\n 'Standard Platinum On Exchange Plan']\n['Low' 'High' 'Silver' 'Expanded Bronze' 'Gold' 'Catastrophic' 'Platinum'\n 'Bronze']\n"
    }
   ],
   "source": [
    "print(df['CSRVariationType'].unique())\n",
    "print(df['MetalLevel'].unique())"
   ]
  },
  {
   "cell_type": "code",
   "execution_count": 2,
   "metadata": {},
   "outputs": [],
   "source": [
    "DROP = [\"BusinessYear\", \"SourceName\", \"ImportDate\", \"TIN\", \"HIOSProductId\", \"HPID\", \"IsNewPlan\", \"DesignType\", \"IsNoticeRequiredForPregnancy\", \"IsReferralRequiredForSpecialist\", \"SpecialistRequiringReferral\", \"IndianPlanVariationEstimatedAdvancedPaymentAmountPerEnrollee\", \"ChildOnlyPlanId\", \"EHBPercentTotalPremium\", \"EHBPediatricDentalApportionmentQuantity\", \"PlanEffectiveDate\", \"PlanExpirationDate\", \"OutOfCountryCoverage\", \"OutOfCountryCoverageDescription\", \"OutOfServiceAreaCoverage\", \"OutOfServiceAreaCoverageDescription\", \"URLForEnrollmentPayment\", \"PlanVariantMarketingName\", \"IssuerActuarialValue\", \"AVCalculatorOutputNumber\", \"MedicalDrugDeductiblesIntegrated\", \"MedicalDrugMaximumOutofPocketIntegrated\", \"FirstTierUtilization\", \"SecondTierUtilization\", \"SBCHavingaBabyDeductible\", \"SBCHavingaBabyCopayment\", \"SBCHavingaBabyCoinsurance\", \"SBCHavingaBabyLimit\", \"SBCHavingDiabetesDeductible\", \"SBCHavingDiabetesCopayment\", \"SBCHavingDiabetesCoinsurance\", \"SBCHavingDiabetesLimit\", \"SBCHavingSimplefractureDeductible\", \"SBCHavingSimplefractureCopayment\", \"SBCHavingSimplefractureCoinsurance\", \"SBCHavingSimplefractureLimit\"]\n",
    "\n",
    "UNKNOWN = [\"QHPNonQHPTypeId\", \"UniquePlanDesign\", \"CompositeRatingOffered\"]\n",
    "df = df.drop(DROP, axis=1)"
   ]
  },
  {
   "cell_type": "code",
   "execution_count": 6,
   "metadata": {},
   "outputs": [],
   "source": [
    "df.to_csv(\"data/done.csv\")"
   ]
  },
  {
   "cell_type": "code",
   "execution_count": 5,
   "metadata": {},
   "outputs": [
    {
     "output_type": "execute_result",
     "data": {
      "text/plain": "array([nan, 'Yes', 'No'], dtype=object)"
     },
     "metadata": {},
     "execution_count": 5
    }
   ],
   "source": [
    "df['MedicalDrugDeductiblesIntegrated'].unique()"
   ]
  },
  {
   "cell_type": "code",
   "execution_count": null,
   "metadata": {},
   "outputs": [],
   "source": []
  }
 ]
}